{
 "cells": [
  {
   "cell_type": "code",
   "execution_count": 2,
   "id": "1eff7f66",
   "metadata": {},
   "outputs": [],
   "source": [
    "import pandas as pd"
   ]
  },
  {
   "cell_type": "code",
   "execution_count": 19,
   "id": "89664de4",
   "metadata": {},
   "outputs": [
    {
     "data": {
      "text/html": [
       "<div>\n",
       "<style scoped>\n",
       "    .dataframe tbody tr th:only-of-type {\n",
       "        vertical-align: middle;\n",
       "    }\n",
       "\n",
       "    .dataframe tbody tr th {\n",
       "        vertical-align: top;\n",
       "    }\n",
       "\n",
       "    .dataframe thead th {\n",
       "        text-align: right;\n",
       "    }\n",
       "</style>\n",
       "<table border=\"1\" class=\"dataframe\">\n",
       "  <thead>\n",
       "    <tr style=\"text-align: right;\">\n",
       "      <th></th>\n",
       "      <th>temperatura</th>\n",
       "    </tr>\n",
       "    <tr>\n",
       "      <th>tiempo</th>\n",
       "      <th></th>\n",
       "    </tr>\n",
       "  </thead>\n",
       "  <tbody>\n",
       "    <tr>\n",
       "      <th>2012-01-01 00:00:00</th>\n",
       "      <td>19.3</td>\n",
       "    </tr>\n",
       "    <tr>\n",
       "      <th>2012-01-01 01:00:00</th>\n",
       "      <td>18.6</td>\n",
       "    </tr>\n",
       "    <tr>\n",
       "      <th>2012-01-01 02:00:00</th>\n",
       "      <td>17.9</td>\n",
       "    </tr>\n",
       "    <tr>\n",
       "      <th>2012-01-01 03:00:00</th>\n",
       "      <td>17.3</td>\n",
       "    </tr>\n",
       "    <tr>\n",
       "      <th>2012-01-01 04:00:00</th>\n",
       "      <td>16.6</td>\n",
       "    </tr>\n",
       "  </tbody>\n",
       "</table>\n",
       "</div>"
      ],
      "text/plain": [
       "                     temperatura\n",
       "tiempo                          \n",
       "2012-01-01 00:00:00         19.3\n",
       "2012-01-01 01:00:00         18.6\n",
       "2012-01-01 02:00:00         17.9\n",
       "2012-01-01 03:00:00         17.3\n",
       "2012-01-01 04:00:00         16.6"
      ]
     },
     "execution_count": 19,
     "metadata": {},
     "output_type": "execute_result"
    }
   ],
   "source": [
    "file_path = '../data/Cuernavca_T1dia_tabulador.csv'\n",
    "cuerna = pd.read_csv(\n",
    "    file_path, \n",
    "    sep='\\t', \n",
    "    header=None, \n",
    "    skiprows=1, \n",
    "    names=['tiempo', 'temperatura'],\n",
    "    index_col=0, \n",
    "    parse_dates=True\n",
    ")\n",
    "cuerna.head()\n"
   ]
  },
  {
   "cell_type": "code",
   "execution_count": 20,
   "id": "8fefdde7",
   "metadata": {},
   "outputs": [
    {
     "data": {
      "text/plain": [
       "DatetimeIndex(['2012-01-01 00:00:00', '2012-01-01 01:00:00',\n",
       "               '2012-01-01 02:00:00', '2012-01-01 03:00:00',\n",
       "               '2012-01-01 04:00:00', '2012-01-01 05:00:00',\n",
       "               '2012-01-01 06:00:00', '2012-01-01 07:00:00',\n",
       "               '2012-01-01 08:00:00', '2012-01-01 09:00:00',\n",
       "               '2012-01-01 10:00:00', '2012-01-01 11:00:00',\n",
       "               '2012-01-01 12:00:00', '2012-01-01 13:00:00',\n",
       "               '2012-01-01 14:00:00', '2012-01-01 15:00:00',\n",
       "               '2012-01-01 16:00:00', '2012-01-01 17:00:00',\n",
       "               '2012-01-01 18:00:00', '2012-01-01 19:00:00',\n",
       "               '2012-01-01 20:00:00', '2012-01-01 21:00:00',\n",
       "               '2012-01-01 22:00:00', '2012-01-01 23:00:00'],\n",
       "              dtype='datetime64[ns]', name='tiempo', freq=None)"
      ]
     },
     "execution_count": 20,
     "metadata": {},
     "output_type": "execute_result"
    }
   ],
   "source": [
    "cuerna.index"
   ]
  },
  {
   "cell_type": "code",
   "execution_count": 11,
   "id": "4ff9d3a7",
   "metadata": {},
   "outputs": [
    {
     "data": {
      "text/plain": [
       "DatetimeIndex(['2012-01-01 00:00:00', '2012-01-01 01:00:00',\n",
       "               '2012-01-01 02:00:00', '2012-01-01 03:00:00',\n",
       "               '2012-01-01 04:00:00', '2012-01-01 05:00:00',\n",
       "               '2012-01-01 06:00:00', '2012-01-01 07:00:00',\n",
       "               '2012-01-01 08:00:00', '2012-01-01 09:00:00',\n",
       "               '2012-01-01 10:00:00', '2012-01-01 11:00:00',\n",
       "               '2012-01-01 12:00:00', '2012-01-01 13:00:00',\n",
       "               '2012-01-01 14:00:00', '2012-01-01 15:00:00',\n",
       "               '2012-01-01 16:00:00', '2012-01-01 17:00:00',\n",
       "               '2012-01-01 18:00:00', '2012-01-01 19:00:00',\n",
       "               '2012-01-01 20:00:00', '2012-01-01 21:00:00',\n",
       "               '2012-01-01 22:00:00', '2012-01-01 23:00:00'],\n",
       "              dtype='datetime64[ns]', name='tiempo', freq=None)"
      ]
     },
     "execution_count": 11,
     "metadata": {},
     "output_type": "execute_result"
    }
   ],
   "source": [
    "file_path = '../data/Cuernavaca_1dia_comas.csv'\n",
    "cuerna = pd.read_csv(file_path, index_col=0, parse_dates=True)\n",
    "cuerna.index"
   ]
  },
  {
   "cell_type": "code",
   "execution_count": 21,
   "id": "78f0f5ed",
   "metadata": {},
   "outputs": [
    {
     "data": {
      "text/html": [
       "<div>\n",
       "<style scoped>\n",
       "    .dataframe tbody tr th:only-of-type {\n",
       "        vertical-align: middle;\n",
       "    }\n",
       "\n",
       "    .dataframe tbody tr th {\n",
       "        vertical-align: top;\n",
       "    }\n",
       "\n",
       "    .dataframe thead th {\n",
       "        text-align: right;\n",
       "    }\n",
       "</style>\n",
       "<table border=\"1\" class=\"dataframe\">\n",
       "  <thead>\n",
       "    <tr style=\"text-align: right;\">\n",
       "      <th></th>\n",
       "      <th>To</th>\n",
       "      <th>Ws</th>\n",
       "      <th>Wd</th>\n",
       "    </tr>\n",
       "    <tr>\n",
       "      <th>tiempo</th>\n",
       "      <th></th>\n",
       "      <th></th>\n",
       "      <th></th>\n",
       "    </tr>\n",
       "  </thead>\n",
       "  <tbody>\n",
       "    <tr>\n",
       "      <th>2012-01-01 00:00:00</th>\n",
       "      <td>19.3</td>\n",
       "      <td>0.0</td>\n",
       "      <td>26</td>\n",
       "    </tr>\n",
       "    <tr>\n",
       "      <th>2012-01-01 01:00:00</th>\n",
       "      <td>18.6</td>\n",
       "      <td>0.0</td>\n",
       "      <td>26</td>\n",
       "    </tr>\n",
       "    <tr>\n",
       "      <th>2012-01-01 02:00:00</th>\n",
       "      <td>17.9</td>\n",
       "      <td>0.0</td>\n",
       "      <td>30</td>\n",
       "    </tr>\n",
       "    <tr>\n",
       "      <th>2012-01-01 03:00:00</th>\n",
       "      <td>17.3</td>\n",
       "      <td>0.0</td>\n",
       "      <td>30</td>\n",
       "    </tr>\n",
       "    <tr>\n",
       "      <th>2012-01-01 04:00:00</th>\n",
       "      <td>16.6</td>\n",
       "      <td>0.0</td>\n",
       "      <td>27</td>\n",
       "    </tr>\n",
       "  </tbody>\n",
       "</table>\n",
       "</div>"
      ],
      "text/plain": [
       "                       To   Ws  Wd\n",
       "tiempo                            \n",
       "2012-01-01 00:00:00  19.3  0.0  26\n",
       "2012-01-01 01:00:00  18.6  0.0  26\n",
       "2012-01-01 02:00:00  17.9  0.0  30\n",
       "2012-01-01 03:00:00  17.3  0.0  30\n",
       "2012-01-01 04:00:00  16.6  0.0  27"
      ]
     },
     "execution_count": 21,
     "metadata": {},
     "output_type": "execute_result"
    }
   ],
   "source": [
    "file_path = '../data/Cuernavaca_1dia_comas.csv'\n",
    "cuerna = pd.read_csv(\n",
    "    file_path, \n",
    "    index_col=0, \n",
    "    parse_dates=True, \n",
    "    usecols=[0,1,2,3]\n",
    ")\n",
    "cuerna.head()"
   ]
  }
 ],
 "metadata": {
  "kernelspec": {
   "display_name": "venv",
   "language": "python",
   "name": "python3"
  },
  "language_info": {
   "codemirror_mode": {
    "name": "ipython",
    "version": 3
   },
   "file_extension": ".py",
   "mimetype": "text/x-python",
   "name": "python",
   "nbconvert_exporter": "python",
   "pygments_lexer": "ipython3",
   "version": "3.13.0"
  }
 },
 "nbformat": 4,
 "nbformat_minor": 5
}
