{
 "cells": [
  {
   "cell_type": "code",
   "execution_count": 1,
   "id": "1f51295a",
   "metadata": {},
   "outputs": [],
   "source": [
    "import numpy as np"
   ]
  },
  {
   "cell_type": "code",
   "execution_count": 2,
   "id": "368727c8",
   "metadata": {},
   "outputs": [
    {
     "data": {
      "text/plain": [
       "array([[1.   , 0.674, 0.392],\n",
       "       [0.183, 1.   , 0.729],\n",
       "       [0.438, 0.255, 1.   ]])"
      ]
     },
     "execution_count": 2,
     "metadata": {},
     "output_type": "execute_result"
    }
   ],
   "source": [
    "file_path = \"../../data/matriz3x3.txt\"\n",
    "data = np.loadtxt(file_path)\n",
    "data"
   ]
  },
  {
   "cell_type": "code",
   "execution_count": 4,
   "id": "792a3e2e",
   "metadata": {},
   "outputs": [
    {
     "data": {
      "text/plain": [
       "np.float64(1.0)"
      ]
     },
     "execution_count": 4,
     "metadata": {},
     "output_type": "execute_result"
    }
   ],
   "source": [
    "type(data[0,0])\n",
    "np.float64\n",
    "\n",
    "data[0,0]"
   ]
  },
  {
   "cell_type": "code",
   "execution_count": 5,
   "id": "4ba9babd",
   "metadata": {},
   "outputs": [
    {
     "data": {
      "text/plain": [
       "array([[1.        , 0.891773  , 0.96366276, 0.38344152, 0.79172504,\n",
       "        0.52889492, 0.56804456, 0.92559664, 0.07103606, 0.0871293 ],\n",
       "       [0.0202184 , 1.        , 0.77815675, 0.87001215, 0.97861834,\n",
       "        0.79915856, 0.46147936, 0.78052918, 0.11827443, 0.63992102],\n",
       "       [0.14335329, 0.94466892, 1.        , 0.41466194, 0.26455561,\n",
       "        0.77423369, 0.45615033, 0.56843395, 0.0187898 , 0.6176355 ],\n",
       "       [0.61209572, 0.616934  , 0.94374808, 1.        , 0.3595079 ,\n",
       "        0.43703195, 0.6976312 , 0.06022547, 0.66676672, 0.67063787],\n",
       "       [0.21038256, 0.1289263 , 0.31542835, 0.36371077, 1.        ,\n",
       "        0.43860151, 0.98837384, 0.10204481, 0.20887676, 0.16130952],\n",
       "       [0.65310833, 0.2532916 , 0.46631077, 0.24442559, 0.15896958,\n",
       "        1.        , 0.65632959, 0.13818295, 0.19658236, 0.36872517],\n",
       "       [0.82099323, 0.09710128, 0.83794491, 0.09609841, 0.97645947,\n",
       "        0.4686512 , 1.        , 0.60484552, 0.73926358, 0.03918779],\n",
       "       [0.28280696, 0.12019656, 0.2961402 , 0.11872772, 0.31798318,\n",
       "        0.41426299, 0.0641475 , 1.        , 0.56660145, 0.26538949],\n",
       "       [0.52324805, 0.09394051, 0.5759465 , 0.9292962 , 0.31856895,\n",
       "        0.66741038, 0.13179786, 0.7163272 , 1.        , 0.18319136],\n",
       "       [0.58651293, 0.02010755, 0.82894003, 0.00469548, 0.67781654,\n",
       "        0.27000797, 0.73519402, 0.96218855, 0.24875314, 1.        ]])"
      ]
     },
     "execution_count": 5,
     "metadata": {},
     "output_type": "execute_result"
    }
   ],
   "source": [
    "file_path = \"../../data/matriz10x10.txt\"\n",
    "data = np.loadtxt(file_path)\n",
    "data"
   ]
  },
  {
   "cell_type": "code",
   "execution_count": 8,
   "id": "5279c284",
   "metadata": {},
   "outputs": [
    {
     "data": {
      "text/plain": [
       "array([[1.        , 0.891773  , 0.96366276, 0.38344152, 0.79172504,\n",
       "        0.52889492, 0.56804456, 0.92559664, 0.07103606, 0.0871293 ],\n",
       "       [0.0202184 , 1.        , 0.77815675, 0.87001215, 0.97861834,\n",
       "        0.79915856, 0.46147936, 0.78052918, 0.11827443, 0.63992102],\n",
       "       [0.14335329, 0.94466892, 1.        , 0.41466194, 0.26455561,\n",
       "        0.77423369, 0.45615033, 0.56843395, 0.0187898 , 0.6176355 ],\n",
       "       [0.61209572, 0.616934  , 0.94374808, 1.        , 0.3595079 ,\n",
       "        0.43703195, 0.6976312 , 0.06022547, 0.66676672, 0.67063787],\n",
       "       [0.21038256, 0.1289263 , 0.31542835, 0.36371077, 1.        ,\n",
       "        0.43860151, 0.98837384, 0.10204481, 0.20887676, 0.16130952],\n",
       "       [0.65310833, 0.2532916 , 0.46631077, 0.24442559, 0.15896958,\n",
       "        1.        , 0.65632959, 0.13818295, 0.19658236, 0.36872517],\n",
       "       [0.82099323, 0.09710128, 0.83794491, 0.09609841, 0.97645947,\n",
       "        0.4686512 , 1.        , 0.60484552, 0.73926358, 0.03918779],\n",
       "       [0.28280696, 0.12019656, 0.2961402 , 0.11872772, 0.31798318,\n",
       "        0.41426299, 0.0641475 , 1.        , 0.56660145, 0.26538949],\n",
       "       [0.52324805, 0.09394051, 0.5759465 , 0.9292962 , 0.31856895,\n",
       "        0.66741038, 0.13179786, 0.7163272 , 1.        , 0.18319136],\n",
       "       [0.58651293, 0.02010755, 0.82894003, 0.00469548, 0.67781654,\n",
       "        0.27000797, 0.73519402, 0.96218855, 0.24875314, 1.        ]])"
      ]
     },
     "execution_count": 8,
     "metadata": {},
     "output_type": "execute_result"
    }
   ],
   "source": [
    "file_path = \"../../data/matriz10x10.txt\"\n",
    "data10x10 = np.genfromtxt(file_path)\n",
    "data10x10"
   ]
  },
  {
   "cell_type": "code",
   "execution_count": null,
   "id": "6efb3961",
   "metadata": {},
   "outputs": [
    {
     "data": {
      "text/plain": [
       "array([[1.   , 0.674, 0.392],\n",
       "       [0.183, 1.   , 0.729],\n",
       "       [0.438, 0.255, 1.   ]])"
      ]
     },
     "execution_count": 10,
     "metadata": {},
     "output_type": "execute_result"
    }
   ],
   "source": [
    "file_path3c = \"../../data/matriz3x3_comment01.txt\"\n",
    "data3c = np.loadtxt(file_path3c, comments=\"#\")\n",
    "data3c"
   ]
  },
  {
   "cell_type": "code",
   "execution_count": null,
   "id": "4c84d578",
   "metadata": {},
   "outputs": [],
   "source": [
    "file_path3c = \"../../data/matriz3x3_comment01.txt\"\n",
    "data3c = np.loadtxt(file_path3c, skiprows=1)\n",
    "data3c"
   ]
  },
  {
   "cell_type": "code",
   "execution_count": 13,
   "id": "a1ca0bf2",
   "metadata": {},
   "outputs": [
    {
     "data": {
      "text/plain": [
       "array([[1.   , 0.674, 0.392],\n",
       "       [0.183, 0.   , 0.729],\n",
       "       [0.438, 0.255, 1.   ]])"
      ]
     },
     "execution_count": 13,
     "metadata": {},
     "output_type": "execute_result"
    }
   ],
   "source": [
    "file_pathNaN = \"../../data/matriz3x3_faltantes.txt\"\n",
    "dataNaN = np.genfromtxt(file_pathNaN,  filling_values=0)\n",
    "dataNaN"
   ]
  }
 ],
 "metadata": {
  "kernelspec": {
   "display_name": "venv (3.12.0)",
   "language": "python",
   "name": "python3"
  },
  "language_info": {
   "codemirror_mode": {
    "name": "ipython",
    "version": 3
   },
   "file_extension": ".py",
   "mimetype": "text/x-python",
   "name": "python",
   "nbconvert_exporter": "python",
   "pygments_lexer": "ipython3",
   "version": "3.12.0"
  }
 },
 "nbformat": 4,
 "nbformat_minor": 5
}
