{
 "cells": [
  {
   "cell_type": "code",
   "execution_count": 1,
   "id": "66db8519",
   "metadata": {},
   "outputs": [],
   "source": [
    "import glob as glob"
   ]
  },
  {
   "cell_type": "code",
   "execution_count": 2,
   "id": "0a6f76fe",
   "metadata": {},
   "outputs": [
    {
     "data": {
      "text/plain": [
       "['../../data\\\\cuerna.epw',\n",
       " '../../data\\\\Cuernavaca_1dia_comas.csv',\n",
       " '../../data\\\\Cuernavaca_1dia_comas_duplicado.csv',\n",
       " '../../data\\\\Cuernavaca_1dia_comas_Encoding.txt',\n",
       " '../../data\\\\Cuernavaca_1dia_comas_Nans.csv',\n",
       " '../../data\\\\Cuernavaca_1dia_comas_NULOS.csv',\n",
       " '../../data\\\\Cuernavaca_Enero_comas.csv',\n",
       " '../../data\\\\Cuernavaca_To_1dia_comas.csv',\n",
       " '../../data\\\\Cuernavaca_To_1dia_comas.xlsx',\n",
       " '../../data\\\\Cuernavca_T1dia_tabulador.csv',\n",
       " '../../data\\\\esolmet',\n",
       " '../../data\\\\m10x10_int.txt',\n",
       " '../../data\\\\matriz10x10.txt',\n",
       " '../../data\\\\matriz3x3.txt',\n",
       " '../../data\\\\matriz3x3_comment01.txt',\n",
       " '../../data\\\\matriz3x3_comment02.txt',\n",
       " '../../data\\\\matriz3x3_faltantes.txt',\n",
       " '../../data\\\\obstacle',\n",
       " '../../data\\\\obstacle2',\n",
       " '../../data\\\\python.png',\n",
       " '../../data\\\\Temixco_2018_10Min.csv',\n",
       " '../../data\\\\termopares',\n",
       " '../../data\\\\Ti_blanco.csv',\n",
       " '../../data\\\\Ti_negro.csv']"
      ]
     },
     "execution_count": 2,
     "metadata": {},
     "output_type": "execute_result"
    }
   ],
   "source": [
    "glob.glob(\"../../data/*\")"
   ]
  },
  {
   "cell_type": "code",
   "execution_count": 3,
   "id": "464e6873",
   "metadata": {},
   "outputs": [
    {
     "data": {
      "text/plain": [
       "['../../data\\\\Cuernavaca_1dia_comas.csv',\n",
       " '../../data\\\\Cuernavaca_1dia_comas_duplicado.csv',\n",
       " '../../data\\\\Cuernavaca_1dia_comas_Nans.csv',\n",
       " '../../data\\\\Cuernavaca_1dia_comas_NULOS.csv',\n",
       " '../../data\\\\Cuernavaca_Enero_comas.csv',\n",
       " '../../data\\\\Cuernavaca_To_1dia_comas.csv',\n",
       " '../../data\\\\Cuernavca_T1dia_tabulador.csv',\n",
       " '../../data\\\\Temixco_2018_10Min.csv',\n",
       " '../../data\\\\Ti_blanco.csv',\n",
       " '../../data\\\\Ti_negro.csv']"
      ]
     },
     "execution_count": 3,
     "metadata": {},
     "output_type": "execute_result"
    }
   ],
   "source": [
    "glob.glob(\"../../data/*.csv\")"
   ]
  },
  {
   "cell_type": "code",
   "execution_count": 5,
   "id": "366ad600",
   "metadata": {},
   "outputs": [
    {
     "data": {
      "text/plain": [
       "['../../data\\\\cuerna.epw',\n",
       " '../../data\\\\Cuernavaca_1dia_comas.csv',\n",
       " '../../data\\\\Cuernavaca_1dia_comas_duplicado.csv',\n",
       " '../../data\\\\Cuernavaca_1dia_comas_Encoding.txt',\n",
       " '../../data\\\\Cuernavaca_1dia_comas_Nans.csv',\n",
       " '../../data\\\\Cuernavaca_1dia_comas_NULOS.csv',\n",
       " '../../data\\\\Cuernavaca_Enero_comas.csv',\n",
       " '../../data\\\\Cuernavaca_To_1dia_comas.csv',\n",
       " '../../data\\\\Cuernavaca_To_1dia_comas.xlsx',\n",
       " '../../data\\\\Cuernavca_T1dia_tabulador.csv']"
      ]
     },
     "execution_count": 5,
     "metadata": {},
     "output_type": "execute_result"
    }
   ],
   "source": [
    "glob.glob(\"../../data/Cuerna*\")"
   ]
  },
  {
   "cell_type": "code",
   "execution_count": 6,
   "id": "bbf7d31c",
   "metadata": {},
   "outputs": [
    {
     "data": {
      "text/plain": [
       "['../../data\\\\cuerna.epw',\n",
       " '../../data\\\\Cuernavaca_1dia_comas.csv',\n",
       " '../../data\\\\Cuernavaca_1dia_comas_duplicado.csv',\n",
       " '../../data\\\\Cuernavaca_1dia_comas_Encoding.txt',\n",
       " '../../data\\\\Cuernavaca_1dia_comas_Nans.csv',\n",
       " '../../data\\\\Cuernavaca_1dia_comas_NULOS.csv',\n",
       " '../../data\\\\Cuernavaca_Enero_comas.csv',\n",
       " '../../data\\\\Cuernavaca_To_1dia_comas.csv',\n",
       " '../../data\\\\Cuernavaca_To_1dia_comas.xlsx',\n",
       " '../../data\\\\Cuernavca_T1dia_tabulador.csv']"
      ]
     },
     "execution_count": 6,
     "metadata": {},
     "output_type": "execute_result"
    }
   ],
   "source": [
    "glob.glob(\"../../data/?uerna*\")"
   ]
  },
  {
   "cell_type": "code",
   "execution_count": 4,
   "id": "34bc7e52",
   "metadata": {},
   "outputs": [
    {
     "data": {
      "text/plain": [
       "['../../data\\\\cuerna.epw',\n",
       " '../../data\\\\Cuernavaca_1dia_comas.csv',\n",
       " '../../data\\\\Cuernavaca_1dia_comas_duplicado.csv',\n",
       " '../../data\\\\Cuernavaca_1dia_comas_Encoding.txt',\n",
       " '../../data\\\\Cuernavaca_1dia_comas_Nans.csv',\n",
       " '../../data\\\\Cuernavaca_1dia_comas_NULOS.csv',\n",
       " '../../data\\\\Cuernavaca_Enero_comas.csv',\n",
       " '../../data\\\\Cuernavaca_To_1dia_comas.csv',\n",
       " '../../data\\\\Cuernavaca_To_1dia_comas.xlsx',\n",
       " '../../data\\\\Cuernavca_T1dia_tabulador.csv',\n",
       " '../../data\\\\esolmet',\n",
       " '../../data\\\\m10x10_int.txt',\n",
       " '../../data\\\\matriz10x10.txt',\n",
       " '../../data\\\\matriz3x3.txt',\n",
       " '../../data\\\\matriz3x3_comment01.txt',\n",
       " '../../data\\\\matriz3x3_comment02.txt',\n",
       " '../../data\\\\matriz3x3_faltantes.txt',\n",
       " '../../data\\\\obstacle',\n",
       " '../../data\\\\obstacle2',\n",
       " '../../data\\\\python.png',\n",
       " '../../data\\\\Temixco_2018_10Min.csv',\n",
       " '../../data\\\\termopares',\n",
       " '../../data\\\\Ti_blanco.csv',\n",
       " '../../data\\\\Ti_negro.csv',\n",
       " '../../data\\\\esolmet\\\\001.xls',\n",
       " '../../data\\\\esolmet\\\\002.xls',\n",
       " '../../data\\\\esolmet\\\\003.xls',\n",
       " '../../data\\\\esolmet\\\\004.xls',\n",
       " '../../data\\\\esolmet\\\\005.xls',\n",
       " '../../data\\\\esolmet\\\\006.xls',\n",
       " '../../data\\\\esolmet\\\\007.xls',\n",
       " '../../data\\\\esolmet\\\\008.xls',\n",
       " '../../data\\\\esolmet\\\\009.xls',\n",
       " '../../data\\\\esolmet\\\\010.xls',\n",
       " '../../data\\\\esolmet\\\\011.xls',\n",
       " '../../data\\\\esolmet\\\\012.xls',\n",
       " '../../data\\\\esolmet\\\\esolmet.xlsx',\n",
       " '../../data\\\\obstacle\\\\u_norm_173.png',\n",
       " '../../data\\\\obstacle\\\\u_norm_174.png',\n",
       " '../../data\\\\obstacle\\\\u_norm_175.png',\n",
       " '../../data\\\\obstacle\\\\u_norm_176.png',\n",
       " '../../data\\\\obstacle\\\\u_norm_177.png',\n",
       " '../../data\\\\obstacle\\\\u_norm_178.png',\n",
       " '../../data\\\\obstacle\\\\u_norm_179.png',\n",
       " '../../data\\\\obstacle\\\\u_norm_180.png',\n",
       " '../../data\\\\obstacle\\\\u_norm_181.png',\n",
       " '../../data\\\\obstacle\\\\u_norm_182.png',\n",
       " '../../data\\\\obstacle\\\\u_norm_183.png',\n",
       " '../../data\\\\obstacle\\\\u_norm_184.png',\n",
       " '../../data\\\\obstacle\\\\u_norm_185.png',\n",
       " '../../data\\\\obstacle\\\\u_norm_186.png',\n",
       " '../../data\\\\obstacle\\\\u_norm_187.png',\n",
       " '../../data\\\\obstacle\\\\u_norm_188.png',\n",
       " '../../data\\\\obstacle\\\\u_norm_189.png',\n",
       " '../../data\\\\obstacle\\\\u_norm_190.png',\n",
       " '../../data\\\\obstacle\\\\u_norm_191.png',\n",
       " '../../data\\\\obstacle\\\\u_norm_192.png',\n",
       " '../../data\\\\obstacle2\\\\unica.png',\n",
       " '../../data\\\\termopares\\\\centro_cafeteria.csv',\n",
       " '../../data\\\\termopares\\\\exterior.csv',\n",
       " '../../data\\\\termopares\\\\Tcafe-12a17h.csv',\n",
       " '../../data\\\\termopares\\\\Text-12a17h.csv']"
      ]
     },
     "execution_count": 4,
     "metadata": {},
     "output_type": "execute_result"
    }
   ],
   "source": [
    "glob.glob(\"../../data/**/*\",recursive=True)"
   ]
  },
  {
   "cell_type": "code",
   "execution_count": 6,
   "id": "dd3813ec",
   "metadata": {},
   "outputs": [
    {
     "data": {
      "text/plain": [
       "['../../data\\\\esolmet\\\\001.xls',\n",
       " '../../data\\\\esolmet\\\\002.xls',\n",
       " '../../data\\\\esolmet\\\\003.xls',\n",
       " '../../data\\\\esolmet\\\\004.xls',\n",
       " '../../data\\\\esolmet\\\\005.xls',\n",
       " '../../data\\\\esolmet\\\\006.xls',\n",
       " '../../data\\\\esolmet\\\\007.xls',\n",
       " '../../data\\\\esolmet\\\\008.xls',\n",
       " '../../data\\\\esolmet\\\\009.xls',\n",
       " '../../data\\\\esolmet\\\\010.xls',\n",
       " '../../data\\\\esolmet\\\\011.xls',\n",
       " '../../data\\\\esolmet\\\\012.xls',\n",
       " '../../data\\\\esolmet\\\\esolmet.xlsx',\n",
       " '../../data\\\\obstacle\\\\u_norm_173.png',\n",
       " '../../data\\\\obstacle\\\\u_norm_174.png',\n",
       " '../../data\\\\obstacle\\\\u_norm_175.png',\n",
       " '../../data\\\\obstacle\\\\u_norm_176.png',\n",
       " '../../data\\\\obstacle\\\\u_norm_177.png',\n",
       " '../../data\\\\obstacle\\\\u_norm_178.png',\n",
       " '../../data\\\\obstacle\\\\u_norm_179.png',\n",
       " '../../data\\\\obstacle\\\\u_norm_180.png',\n",
       " '../../data\\\\obstacle\\\\u_norm_181.png',\n",
       " '../../data\\\\obstacle\\\\u_norm_182.png',\n",
       " '../../data\\\\obstacle\\\\u_norm_183.png',\n",
       " '../../data\\\\obstacle\\\\u_norm_184.png',\n",
       " '../../data\\\\obstacle\\\\u_norm_185.png',\n",
       " '../../data\\\\obstacle\\\\u_norm_186.png',\n",
       " '../../data\\\\obstacle\\\\u_norm_187.png',\n",
       " '../../data\\\\obstacle\\\\u_norm_188.png',\n",
       " '../../data\\\\obstacle\\\\u_norm_189.png',\n",
       " '../../data\\\\obstacle\\\\u_norm_190.png',\n",
       " '../../data\\\\obstacle\\\\u_norm_191.png',\n",
       " '../../data\\\\obstacle\\\\u_norm_192.png',\n",
       " '../../data\\\\obstacle2\\\\unica.png',\n",
       " '../../data\\\\termopares\\\\centro_cafeteria.csv',\n",
       " '../../data\\\\termopares\\\\exterior.csv',\n",
       " '../../data\\\\termopares\\\\Tcafe-12a17h.csv',\n",
       " '../../data\\\\termopares\\\\Text-12a17h.csv']"
      ]
     },
     "execution_count": 6,
     "metadata": {},
     "output_type": "execute_result"
    }
   ],
   "source": [
    "glob.glob(\"../../data/*/*\",recursive=True)"
   ]
  },
  {
   "cell_type": "markdown",
   "id": "9ddb6786",
   "metadata": {},
   "source": []
  },
  {
   "cell_type": "code",
   "execution_count": 3,
   "id": "e017e798",
   "metadata": {},
   "outputs": [
    {
     "data": {
      "text/plain": [
       "['../../data/obstacle\\\\u_norm_173.png',\n",
       " '../../data/obstacle\\\\u_norm_174.png',\n",
       " '../../data/obstacle\\\\u_norm_175.png',\n",
       " '../../data/obstacle\\\\u_norm_176.png',\n",
       " '../../data/obstacle\\\\u_norm_177.png',\n",
       " '../../data/obstacle\\\\u_norm_178.png',\n",
       " '../../data/obstacle\\\\u_norm_179.png',\n",
       " '../../data/obstacle\\\\u_norm_180.png',\n",
       " '../../data/obstacle\\\\u_norm_181.png',\n",
       " '../../data/obstacle\\\\u_norm_182.png',\n",
       " '../../data/obstacle\\\\u_norm_183.png',\n",
       " '../../data/obstacle\\\\u_norm_184.png',\n",
       " '../../data/obstacle\\\\u_norm_185.png',\n",
       " '../../data/obstacle\\\\u_norm_186.png',\n",
       " '../../data/obstacle\\\\u_norm_187.png',\n",
       " '../../data/obstacle\\\\u_norm_188.png',\n",
       " '../../data/obstacle\\\\u_norm_189.png',\n",
       " '../../data/obstacle\\\\u_norm_190.png',\n",
       " '../../data/obstacle\\\\u_norm_191.png',\n",
       " '../../data/obstacle\\\\u_norm_192.png']"
      ]
     },
     "execution_count": 3,
     "metadata": {},
     "output_type": "execute_result"
    }
   ],
   "source": [
    "imgs = glob.glob(\"../../data/obstacle/*\")\n",
    "imgs\n"
   ]
  },
  {
   "cell_type": "code",
   "execution_count": 4,
   "id": "74c72209",
   "metadata": {},
   "outputs": [
    {
     "data": {
      "text/plain": [
       "['../../data/obstacle\\\\u_norm_173.png',\n",
       " '../../data/obstacle\\\\u_norm_174.png',\n",
       " '../../data/obstacle\\\\u_norm_175.png',\n",
       " '../../data/obstacle\\\\u_norm_176.png',\n",
       " '../../data/obstacle\\\\u_norm_177.png',\n",
       " '../../data/obstacle\\\\u_norm_178.png',\n",
       " '../../data/obstacle\\\\u_norm_179.png',\n",
       " '../../data/obstacle\\\\u_norm_180.png',\n",
       " '../../data/obstacle\\\\u_norm_181.png',\n",
       " '../../data/obstacle\\\\u_norm_182.png',\n",
       " '../../data/obstacle\\\\u_norm_183.png',\n",
       " '../../data/obstacle\\\\u_norm_184.png',\n",
       " '../../data/obstacle\\\\u_norm_185.png',\n",
       " '../../data/obstacle\\\\u_norm_186.png',\n",
       " '../../data/obstacle\\\\u_norm_187.png',\n",
       " '../../data/obstacle\\\\u_norm_188.png',\n",
       " '../../data/obstacle\\\\u_norm_189.png',\n",
       " '../../data/obstacle\\\\u_norm_190.png',\n",
       " '../../data/obstacle\\\\u_norm_191.png',\n",
       " '../../data/obstacle\\\\u_norm_192.png']"
      ]
     },
     "execution_count": 4,
     "metadata": {},
     "output_type": "execute_result"
    }
   ],
   "source": [
    "imgs.sort()\n",
    "imgs"
   ]
  }
 ],
 "metadata": {
  "kernelspec": {
   "display_name": "venv (3.12.0)",
   "language": "python",
   "name": "python3"
  },
  "language_info": {
   "codemirror_mode": {
    "name": "ipython",
    "version": 3
   },
   "file_extension": ".py",
   "mimetype": "text/x-python",
   "name": "python",
   "nbconvert_exporter": "python",
   "pygments_lexer": "ipython3",
   "version": "3.12.0"
  }
 },
 "nbformat": 4,
 "nbformat_minor": 5
}
