{
 "cells": [
  {
   "cell_type": "code",
   "execution_count": 1,
   "id": "7e24e3db",
   "metadata": {},
   "outputs": [],
   "source": [
    "import numpy as np"
   ]
  },
  {
   "cell_type": "code",
   "execution_count": 4,
   "id": "483a6625",
   "metadata": {},
   "outputs": [
    {
     "data": {
      "text/plain": [
       "array([[ 0,  1,  2,  3,  4],\n",
       "       [ 5,  6,  7,  8,  9],\n",
       "       [10, 11, 12, 13, 14]])"
      ]
     },
     "execution_count": 4,
     "metadata": {},
     "output_type": "execute_result"
    }
   ],
   "source": [
    "m = np.arange(15).reshape(3, 5)\n",
    "m"
   ]
  },
  {
   "cell_type": "code",
   "execution_count": 5,
   "id": "2f73ea19",
   "metadata": {},
   "outputs": [
    {
     "data": {
      "text/plain": [
       "array([[ 0,  1,  2],\n",
       "       [ 3,  4,  5],\n",
       "       [ 6,  7,  8],\n",
       "       [ 9, 10, 11],\n",
       "       [12, 13, 14]])"
      ]
     },
     "execution_count": 5,
     "metadata": {},
     "output_type": "execute_result"
    }
   ],
   "source": [
    "m.reshape(5,-1)"
   ]
  },
  {
   "cell_type": "code",
   "execution_count": 6,
   "id": "ff7aea53",
   "metadata": {},
   "outputs": [
    {
     "data": {
      "text/plain": [
       "array([[ 0,  1,  2,  3,  4],\n",
       "       [ 5,  6,  7,  8,  9],\n",
       "       [10, 11, 12, 13, 14]])"
      ]
     },
     "execution_count": 6,
     "metadata": {},
     "output_type": "execute_result"
    }
   ],
   "source": [
    "m.reshape(-1,5)"
   ]
  },
  {
   "cell_type": "code",
   "execution_count": 9,
   "id": "f61c4142",
   "metadata": {},
   "outputs": [],
   "source": [
    "m = np.random.randint(0, 10, (3, 3))"
   ]
  },
  {
   "cell_type": "code",
   "execution_count": 10,
   "id": "2c09bc13",
   "metadata": {},
   "outputs": [
    {
     "data": {
      "text/plain": [
       "array([9, 3, 0, 4, 1, 4, 5, 5, 6], dtype=int32)"
      ]
     },
     "execution_count": 10,
     "metadata": {},
     "output_type": "execute_result"
    }
   ],
   "source": [
    "m.reshape(-1)"
   ]
  },
  {
   "cell_type": "code",
   "execution_count": 12,
   "id": "cb73a6c8",
   "metadata": {},
   "outputs": [
    {
     "data": {
      "text/plain": [
       "array([[[0.8969849 , 0.5658466 , 0.45492222],\n",
       "        [0.6277783 , 0.70964923, 0.05405017],\n",
       "        [0.45512196, 0.1694254 , 0.95476872],\n",
       "        ...,\n",
       "        [0.858791  , 0.94399694, 0.39777558],\n",
       "        [0.6428687 , 0.83787375, 0.77683611],\n",
       "        [0.30551262, 0.28573262, 0.62792454]],\n",
       "\n",
       "       [[0.73350133, 0.34987   , 0.85103294],\n",
       "        [0.48399074, 0.26822639, 0.11614786],\n",
       "        [0.99195478, 0.97602495, 0.58550849],\n",
       "        ...,\n",
       "        [0.17626287, 0.85711084, 0.16722882],\n",
       "        [0.40928116, 0.60939448, 0.95771644],\n",
       "        [0.04700989, 0.20821367, 0.29607008]],\n",
       "\n",
       "       [[0.36077684, 0.44607206, 0.18815044],\n",
       "        [0.43017381, 0.94850839, 0.99045374],\n",
       "        [0.17411089, 0.75049522, 0.29878627],\n",
       "        ...,\n",
       "        [0.28944829, 0.82368026, 0.94138157],\n",
       "        [0.65762168, 0.42848027, 0.96141508],\n",
       "        [0.99633968, 0.01440668, 0.27337847]],\n",
       "\n",
       "       ...,\n",
       "\n",
       "       [[0.11572706, 0.02484596, 0.84285131],\n",
       "        [0.22733848, 0.93829353, 0.02612827],\n",
       "        [0.01430957, 0.52581929, 0.26688164],\n",
       "        ...,\n",
       "        [0.70578641, 0.8018856 , 0.73304037],\n",
       "        [0.92425927, 0.46162322, 0.60892811],\n",
       "        [0.53304528, 0.73667343, 0.04681901]],\n",
       "\n",
       "       [[0.62794568, 0.02935247, 0.77895983],\n",
       "        [0.9118566 , 0.60791461, 0.52093323],\n",
       "        [0.43898234, 0.31109133, 0.31671364],\n",
       "        ...,\n",
       "        [0.71625975, 0.54385812, 0.39827081],\n",
       "        [0.55623883, 0.58715703, 0.85257972],\n",
       "        [0.02646267, 0.93139849, 0.24854771]],\n",
       "\n",
       "       [[0.87800044, 0.20065063, 0.79139931],\n",
       "        [0.07567569, 0.89142216, 0.91607831],\n",
       "        [0.78308102, 0.50159575, 0.5667519 ],\n",
       "        ...,\n",
       "        [0.56307394, 0.28290638, 0.50739847],\n",
       "        [0.75978678, 0.00409103, 0.04188369],\n",
       "        [0.60202833, 0.19459936, 0.27903338]]], shape=(100, 100, 3))"
      ]
     },
     "execution_count": 12,
     "metadata": {},
     "output_type": "execute_result"
    }
   ],
   "source": [
    "m = np.random.rand(100,100,3)\n",
    "m"
   ]
  },
  {
   "cell_type": "code",
   "execution_count": 14,
   "id": "ee8f3529",
   "metadata": {},
   "outputs": [
    {
     "data": {
      "text/plain": [
       "array([[0.8969849 , 0.5658466 , 0.45492222],\n",
       "       [0.6277783 , 0.70964923, 0.05405017],\n",
       "       [0.45512196, 0.1694254 , 0.95476872],\n",
       "       ...,\n",
       "       [0.56307394, 0.28290638, 0.50739847],\n",
       "       [0.75978678, 0.00409103, 0.04188369],\n",
       "       [0.60202833, 0.19459936, 0.27903338]], shape=(10000, 3))"
      ]
     },
     "execution_count": 14,
     "metadata": {},
     "output_type": "execute_result"
    }
   ],
   "source": [
    "n = m.reshape(-1,3)\n",
    "n.shape\n",
    "n"
   ]
  },
  {
   "cell_type": "code",
   "execution_count": 15,
   "id": "272f321b",
   "metadata": {},
   "outputs": [
    {
     "ename": "ValueError",
     "evalue": "cannot reshape array of size 30000 into shape (10,2)",
     "output_type": "error",
     "traceback": [
      "\u001b[31m---------------------------------------------------------------------------\u001b[39m",
      "\u001b[31mValueError\u001b[39m                                Traceback (most recent call last)",
      "\u001b[36mCell\u001b[39m\u001b[36m \u001b[39m\u001b[32mIn[15]\u001b[39m\u001b[32m, line 1\u001b[39m\n\u001b[32m----> \u001b[39m\u001b[32m1\u001b[39m \u001b[43mm\u001b[49m\u001b[43m.\u001b[49m\u001b[43mreshape\u001b[49m\u001b[43m(\u001b[49m\u001b[32;43m10\u001b[39;49m\u001b[43m,\u001b[49m\u001b[32;43m2\u001b[39;49m\u001b[43m)\u001b[49m\n",
      "\u001b[31mValueError\u001b[39m: cannot reshape array of size 30000 into shape (10,2)"
     ]
    }
   ],
   "source": [
    "m.reshape(10,2)"
   ]
  },
  {
   "cell_type": "code",
   "execution_count": 16,
   "id": "bdd5bd32",
   "metadata": {},
   "outputs": [
    {
     "data": {
      "text/plain": [
       "array([[0.8969849 , 0.5658466 ],\n",
       "       [0.45492222, 0.6277783 ],\n",
       "       [0.70964923, 0.05405017],\n",
       "       [0.45512196, 0.1694254 ],\n",
       "       [0.95476872, 0.13822932],\n",
       "       [0.09558941, 0.73413205],\n",
       "       [0.88782189, 0.40166199],\n",
       "       [0.5694118 , 0.91469047],\n",
       "       [0.75383509, 0.47375758],\n",
       "       [0.68058293, 0.35028664]])"
      ]
     },
     "execution_count": 16,
     "metadata": {},
     "output_type": "execute_result"
    }
   ],
   "source": [
    "np.resize(m, (10,2))"
   ]
  }
 ],
 "metadata": {
  "kernelspec": {
   "display_name": "venv (3.12.0)",
   "language": "python",
   "name": "python3"
  },
  "language_info": {
   "codemirror_mode": {
    "name": "ipython",
    "version": 3
   },
   "file_extension": ".py",
   "mimetype": "text/x-python",
   "name": "python",
   "nbconvert_exporter": "python",
   "pygments_lexer": "ipython3",
   "version": "3.12.0"
  }
 },
 "nbformat": 4,
 "nbformat_minor": 5
}
