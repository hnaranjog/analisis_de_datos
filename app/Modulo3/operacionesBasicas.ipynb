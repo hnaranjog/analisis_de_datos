{
 "cells": [
  {
   "cell_type": "code",
   "execution_count": 1,
   "id": "c3f463dc",
   "metadata": {},
   "outputs": [],
   "source": [
    "import numpy as np"
   ]
  },
  {
   "cell_type": "code",
   "execution_count": 2,
   "id": "2ffac726",
   "metadata": {},
   "outputs": [
    {
     "data": {
      "text/plain": [
       "array([[0., 0., 0.],\n",
       "       [0., 0., 0.],\n",
       "       [0., 0., 0.]])"
      ]
     },
     "execution_count": 2,
     "metadata": {},
     "output_type": "execute_result"
    }
   ],
   "source": [
    "np.zeros((3, 3))"
   ]
  },
  {
   "cell_type": "code",
   "execution_count": 3,
   "id": "980b8359",
   "metadata": {},
   "outputs": [
    {
     "data": {
      "text/plain": [
       "array([[1., 1., 1., 1.],\n",
       "       [1., 1., 1., 1.],\n",
       "       [1., 1., 1., 1.]])"
      ]
     },
     "execution_count": 3,
     "metadata": {},
     "output_type": "execute_result"
    }
   ],
   "source": [
    "np.ones((3,4))"
   ]
  },
  {
   "cell_type": "code",
   "execution_count": 4,
   "id": "a34daadd",
   "metadata": {},
   "outputs": [
    {
     "data": {
      "text/plain": [
       "array([[1., 0., 0., 0., 0.],\n",
       "       [0., 1., 0., 0., 0.],\n",
       "       [0., 0., 1., 0., 0.],\n",
       "       [0., 0., 0., 1., 0.],\n",
       "       [0., 0., 0., 0., 1.]])"
      ]
     },
     "execution_count": 4,
     "metadata": {},
     "output_type": "execute_result"
    }
   ],
   "source": [
    "np.eye(5)"
   ]
  },
  {
   "cell_type": "code",
   "execution_count": 5,
   "id": "3dfdca42",
   "metadata": {},
   "outputs": [
    {
     "data": {
      "text/plain": [
       "array([[1., 0., 0., 0., 0.],\n",
       "       [0., 1., 0., 0., 0.],\n",
       "       [0., 0., 1., 0., 0.],\n",
       "       [0., 0., 0., 1., 0.],\n",
       "       [0., 0., 0., 0., 1.]])"
      ]
     },
     "execution_count": 5,
     "metadata": {},
     "output_type": "execute_result"
    }
   ],
   "source": [
    "np.identity(5)"
   ]
  },
  {
   "cell_type": "code",
   "execution_count": 6,
   "id": "4bd8d070",
   "metadata": {},
   "outputs": [
    {
     "data": {
      "text/plain": [
       "array([[-1, -1, -1],\n",
       "       [-1, -1, -1],\n",
       "       [-1, -1, -1]])"
      ]
     },
     "execution_count": 6,
     "metadata": {},
     "output_type": "execute_result"
    }
   ],
   "source": [
    "np.full((3,3),-1)"
   ]
  },
  {
   "cell_type": "code",
   "execution_count": 7,
   "id": "a5a316c9",
   "metadata": {},
   "outputs": [
    {
     "data": {
      "text/plain": [
       "array([[0.83415355, 0.97635436, 0.99079837],\n",
       "       [0.68010424, 0.91490748, 0.58941892],\n",
       "       [0.55351502, 0.84534372, 0.78441479]])"
      ]
     },
     "execution_count": 7,
     "metadata": {},
     "output_type": "execute_result"
    }
   ],
   "source": [
    "np.random.rand(3, 3)"
   ]
  },
  {
   "cell_type": "code",
   "execution_count": 9,
   "id": "4145d6c0",
   "metadata": {},
   "outputs": [
    {
     "data": {
      "text/plain": [
       "array([[4, 4, 3, 5, 7, 0, 6, 1, 7, 3],\n",
       "       [1, 0, 3, 0, 5, 9, 7, 8, 9, 2],\n",
       "       [2, 2, 3, 7, 9, 0, 5, 4, 3, 2],\n",
       "       [3, 4, 6, 6, 2, 6, 2, 3, 3, 3],\n",
       "       [3, 3, 2, 4, 6, 1, 8, 9, 6, 4],\n",
       "       [0, 9, 1, 2, 4, 7, 4, 5, 7, 7],\n",
       "       [5, 6, 7, 9, 9, 9, 8, 2, 3, 1],\n",
       "       [5, 6, 1, 9, 1, 6, 3, 1, 3, 2],\n",
       "       [0, 3, 0, 8, 9, 9, 3, 1, 8, 0],\n",
       "       [2, 2, 8, 3, 1, 1, 0, 0, 2, 4]], dtype=int32)"
      ]
     },
     "execution_count": 9,
     "metadata": {},
     "output_type": "execute_result"
    }
   ],
   "source": [
    "np.random.randint(0, 10, (10, 10))"
   ]
  },
  {
   "cell_type": "code",
   "execution_count": null,
   "id": "6067a671",
   "metadata": {},
   "outputs": [
    {
     "data": {
      "text/plain": [
       "(3, 3)"
      ]
     },
     "execution_count": 14,
     "metadata": {},
     "output_type": "execute_result"
    }
   ],
   "source": [
    "unos = np.ones((3, 3))\n",
    "azar = np.random.randint(0, 3, (3, 3))\n",
    "\n",
    "unos.shape"
   ]
  },
  {
   "cell_type": "code",
   "execution_count": 15,
   "id": "4945141e",
   "metadata": {},
   "outputs": [
    {
     "data": {
      "text/plain": [
       "array([[3., 1., 2.],\n",
       "       [3., 3., 1.],\n",
       "       [2., 1., 1.]])"
      ]
     },
     "execution_count": 15,
     "metadata": {},
     "output_type": "execute_result"
    }
   ],
   "source": [
    "unos + azar"
   ]
  },
  {
   "cell_type": "code",
   "execution_count": 16,
   "id": "86cef5b4",
   "metadata": {},
   "outputs": [
    {
     "data": {
      "text/plain": [
       "array([[3., 3., 3.],\n",
       "       [3., 3., 3.],\n",
       "       [3., 3., 3.]])"
      ]
     },
     "execution_count": 16,
     "metadata": {},
     "output_type": "execute_result"
    }
   ],
   "source": [
    "unos += 2\n",
    "unos"
   ]
  },
  {
   "cell_type": "code",
   "execution_count": 19,
   "id": "3b798f2d",
   "metadata": {},
   "outputs": [
    {
     "data": {
      "text/plain": [
       "array([[16,  0,  1],\n",
       "       [16, 16,  0],\n",
       "       [ 1,  0,  0]], dtype=int32)"
      ]
     },
     "execution_count": 19,
     "metadata": {},
     "output_type": "execute_result"
    }
   ],
   "source": [
    "azar *= azar\n",
    "azar"
   ]
  }
 ],
 "metadata": {
  "kernelspec": {
   "display_name": "venv (3.12.0)",
   "language": "python",
   "name": "python3"
  },
  "language_info": {
   "codemirror_mode": {
    "name": "ipython",
    "version": 3
   },
   "file_extension": ".py",
   "mimetype": "text/x-python",
   "name": "python",
   "nbconvert_exporter": "python",
   "pygments_lexer": "ipython3",
   "version": "3.12.0"
  }
 },
 "nbformat": 4,
 "nbformat_minor": 5
}
