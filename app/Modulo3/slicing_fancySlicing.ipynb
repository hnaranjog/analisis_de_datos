{
 "cells": [
  {
   "cell_type": "code",
   "execution_count": 1,
   "id": "3500551b",
   "metadata": {},
   "outputs": [],
   "source": [
    "import numpy as np"
   ]
  },
  {
   "cell_type": "code",
   "execution_count": 5,
   "id": "316494b0",
   "metadata": {},
   "outputs": [
    {
     "data": {
      "text/plain": [
       "array([[6., 0., 8., 5., 2., 0., 5., 7., 9., 3.],\n",
       "       [7., 3., 1., 8., 6., 0., 6., 2., 7., 2.],\n",
       "       [7., 6., 3., 5., 5., 0., 5., 8., 5., 5.],\n",
       "       [7., 3., 3., 9., 3., 3., 8., 1., 9., 7.],\n",
       "       [0., 3., 0., 7., 0., 4., 3., 7., 4., 9.],\n",
       "       [4., 8., 8., 3., 7., 4., 5., 7., 4., 3.],\n",
       "       [2., 6., 6., 8., 9., 9., 7., 9., 6., 5.],\n",
       "       [4., 9., 9., 9., 1., 8., 6., 9., 8., 9.],\n",
       "       [5., 8., 6., 8., 4., 8., 2., 7., 8., 7.],\n",
       "       [5., 8., 5., 7., 7., 3., 4., 3., 5., 6.]])"
      ]
     },
     "execution_count": 5,
     "metadata": {},
     "output_type": "execute_result"
    }
   ],
   "source": [
    "file_path = '../../data/m10x10_int.txt'\n",
    "data = np.loadtxt(file_path) \n",
    "data"
   ]
  },
  {
   "cell_type": "code",
   "execution_count": 7,
   "id": "224fc063",
   "metadata": {},
   "outputs": [
    {
     "data": {
      "text/plain": [
       "(10, 10)"
      ]
     },
     "execution_count": 7,
     "metadata": {},
     "output_type": "execute_result"
    }
   ],
   "source": [
    "data.shape"
   ]
  },
  {
   "cell_type": "code",
   "execution_count": 8,
   "id": "8f31e626",
   "metadata": {},
   "outputs": [
    {
     "data": {
      "text/plain": [
       "array([[6., 0., 8., 5., 2., 0., 5., 7., 9., 3.],\n",
       "       [7., 3., 1., 8., 6., 0., 6., 2., 7., 2.]])"
      ]
     },
     "execution_count": 8,
     "metadata": {},
     "output_type": "execute_result"
    }
   ],
   "source": [
    "data[:2]"
   ]
  },
  {
   "cell_type": "code",
   "execution_count": 10,
   "id": "d5b3fce7",
   "metadata": {},
   "outputs": [
    {
     "data": {
      "text/plain": [
       "array([[2., 0., 5., 7., 9.],\n",
       "       [6., 0., 6., 2., 7.],\n",
       "       [5., 0., 5., 8., 5.],\n",
       "       [3., 3., 8., 1., 9.],\n",
       "       [0., 4., 3., 7., 4.],\n",
       "       [7., 4., 5., 7., 4.],\n",
       "       [9., 9., 7., 9., 6.],\n",
       "       [1., 8., 6., 9., 8.]])"
      ]
     },
     "execution_count": 10,
     "metadata": {},
     "output_type": "execute_result"
    }
   ],
   "source": [
    "data[:8,4:-1]"
   ]
  },
  {
   "cell_type": "code",
   "execution_count": 12,
   "id": "5eb8ef4b",
   "metadata": {},
   "outputs": [
    {
     "data": {
      "text/plain": [
       "array([[[4, 8, 7],\n",
       "        [7, 8, 8],\n",
       "        [6, 2, 2]],\n",
       "\n",
       "       [[6, 5, 2],\n",
       "        [2, 2, 3],\n",
       "        [0, 5, 3]],\n",
       "\n",
       "       [[2, 8, 8],\n",
       "        [8, 9, 6],\n",
       "        [1, 4, 6]]], dtype=int32)"
      ]
     },
     "execution_count": 12,
     "metadata": {},
     "output_type": "execute_result"
    }
   ],
   "source": [
    "data333 = np.random.randint(0,10,(3,3,3))\n",
    "data333"
   ]
  },
  {
   "cell_type": "code",
   "execution_count": 13,
   "id": "cb274faf",
   "metadata": {},
   "outputs": [
    {
     "data": {
      "text/plain": [
       "array([[[4, 8, 7],\n",
       "        [7, 8, 8],\n",
       "        [6, 2, 2]],\n",
       "\n",
       "       [[6, 5, 2],\n",
       "        [2, 2, 3],\n",
       "        [0, 5, 3]],\n",
       "\n",
       "       [[2, 8, 8],\n",
       "        [8, 9, 6],\n",
       "        [1, 4, 6]]], dtype=int32)"
      ]
     },
     "execution_count": 13,
     "metadata": {},
     "output_type": "execute_result"
    }
   ],
   "source": [
    "data333[:,:,:]"
   ]
  },
  {
   "cell_type": "code",
   "execution_count": 14,
   "id": "9f5f7d51",
   "metadata": {},
   "outputs": [
    {
     "data": {
      "text/plain": [
       "array([[4, 8, 7],\n",
       "       [7, 8, 8],\n",
       "       [6, 2, 2]], dtype=int32)"
      ]
     },
     "execution_count": 14,
     "metadata": {},
     "output_type": "execute_result"
    }
   ],
   "source": [
    "data333[0,:,:]"
   ]
  },
  {
   "cell_type": "code",
   "execution_count": 15,
   "id": "f5126f16",
   "metadata": {},
   "outputs": [
    {
     "data": {
      "text/plain": [
       "array([[6, 2, 2],\n",
       "       [0, 5, 3],\n",
       "       [1, 4, 6]], dtype=int32)"
      ]
     },
     "execution_count": 15,
     "metadata": {},
     "output_type": "execute_result"
    }
   ],
   "source": [
    "data333[:,2,:]"
   ]
  },
  {
   "cell_type": "code",
   "execution_count": 16,
   "id": "24ec0b22",
   "metadata": {},
   "outputs": [
    {
     "data": {
      "text/plain": [
       "array([[4, 8, 4, 3, 4, 5, 5, 0, 0, 8, 3, 7, 6, 7, 2],\n",
       "       [8, 3, 0, 7, 6, 8, 7, 8, 7, 1, 5, 2, 1, 0, 2],\n",
       "       [3, 8, 3, 4, 2, 7, 3, 7, 2, 5, 3, 5, 2, 6, 5],\n",
       "       [4, 7, 0, 5, 3, 3, 4, 6, 9, 8, 0, 3, 7, 7, 4],\n",
       "       [8, 1, 0, 0, 2, 4, 8, 6, 3, 7, 4, 9, 9, 8, 6],\n",
       "       [9, 0, 3, 4, 9, 9, 4, 4, 8, 6, 7, 9, 3, 1, 2],\n",
       "       [5, 3, 4, 4, 4, 4, 6, 1, 4, 8, 4, 3, 7, 6, 1],\n",
       "       [4, 8, 3, 0, 4, 6, 0, 0, 1, 2, 1, 3, 3, 2, 1],\n",
       "       [0, 7, 3, 4, 9, 1, 3, 7, 5, 9, 9, 3, 4, 0, 0],\n",
       "       [0, 8, 0, 8, 0, 2, 1, 2, 8, 9, 1, 8, 1, 3, 0],\n",
       "       [8, 2, 0, 1, 5, 4, 0, 6, 8, 8, 5, 4, 5, 6, 8],\n",
       "       [0, 4, 4, 0, 4, 9, 4, 5, 1, 5, 4, 0, 9, 0, 0],\n",
       "       [0, 5, 3, 8, 3, 8, 7, 0, 4, 0, 5, 3, 6, 6, 7],\n",
       "       [2, 0, 1, 4, 1, 9, 5, 2, 2, 1, 0, 8, 5, 0, 8],\n",
       "       [9, 8, 7, 6, 4, 9, 1, 0, 9, 2, 7, 5, 7, 9, 7]], dtype=int32)"
      ]
     },
     "execution_count": 16,
     "metadata": {},
     "output_type": "execute_result"
    }
   ],
   "source": [
    "matriz = np.random.randint(0,10,(15,15))\n",
    "matriz"
   ]
  },
  {
   "cell_type": "code",
   "execution_count": 18,
   "id": "99c1ae5b",
   "metadata": {},
   "outputs": [
    {
     "data": {
      "text/plain": [
       "array([[4, 3, 5, 8, 6],\n",
       "       [8, 7, 7, 1, 1],\n",
       "       [3, 4, 3, 5, 2],\n",
       "       [4, 5, 4, 8, 7],\n",
       "       [8, 0, 8, 7, 9],\n",
       "       [9, 4, 4, 6, 3],\n",
       "       [5, 4, 6, 8, 7],\n",
       "       [4, 0, 0, 2, 3],\n",
       "       [0, 4, 3, 9, 4],\n",
       "       [0, 8, 1, 9, 1],\n",
       "       [8, 1, 0, 8, 5],\n",
       "       [0, 0, 4, 5, 9],\n",
       "       [0, 8, 7, 0, 6],\n",
       "       [2, 4, 5, 1, 5],\n",
       "       [9, 6, 1, 2, 7]], dtype=int32)"
      ]
     },
     "execution_count": 18,
     "metadata": {},
     "output_type": "execute_result"
    }
   ],
   "source": [
    "matriz[:,::3]"
   ]
  },
  {
   "cell_type": "code",
   "execution_count": 19,
   "id": "bd4bad36",
   "metadata": {},
   "outputs": [
    {
     "data": {
      "text/plain": [
       "array([[4, 8, 4, 3, 4, 5, 5, 0, 0, 8, 3, 7, 6, 7, 2],\n",
       "       [4, 7, 0, 5, 3, 3, 4, 6, 9, 8, 0, 3, 7, 7, 4]], dtype=int32)"
      ]
     },
     "execution_count": 19,
     "metadata": {},
     "output_type": "execute_result"
    }
   ],
   "source": [
    "matriz[[0,3]]"
   ]
  },
  {
   "cell_type": "code",
   "execution_count": 20,
   "id": "8af4a305",
   "metadata": {},
   "outputs": [
    {
     "data": {
      "text/plain": [
       "array([[4, 3],\n",
       "       [8, 7],\n",
       "       [3, 4],\n",
       "       [4, 5],\n",
       "       [8, 0],\n",
       "       [9, 4],\n",
       "       [5, 4],\n",
       "       [4, 0],\n",
       "       [0, 4],\n",
       "       [0, 8],\n",
       "       [8, 1],\n",
       "       [0, 0],\n",
       "       [0, 8],\n",
       "       [2, 4],\n",
       "       [9, 6]], dtype=int32)"
      ]
     },
     "execution_count": 20,
     "metadata": {},
     "output_type": "execute_result"
    }
   ],
   "source": [
    "matriz[:,[0,3]]"
   ]
  }
 ],
 "metadata": {
  "kernelspec": {
   "display_name": "venv (3.12.0)",
   "language": "python",
   "name": "python3"
  },
  "language_info": {
   "codemirror_mode": {
    "name": "ipython",
    "version": 3
   },
   "file_extension": ".py",
   "mimetype": "text/x-python",
   "name": "python",
   "nbconvert_exporter": "python",
   "pygments_lexer": "ipython3",
   "version": "3.12.0"
  }
 },
 "nbformat": 4,
 "nbformat_minor": 5
}
