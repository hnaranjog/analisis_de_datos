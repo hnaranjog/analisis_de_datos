{
 "cells": [
  {
   "cell_type": "code",
   "execution_count": null,
   "id": "ff8a4b54",
   "metadata": {},
   "outputs": [],
   "source": [
    "import pandas as pd\n",
    "from paquete import transforma, concatena, analiza"
   ]
  },
  {
   "cell_type": "code",
   "execution_count": null,
   "id": "0250bf03",
   "metadata": {},
   "outputs": [],
   "source": [
    "tmx = pd.read"
   ]
  },
  {
   "cell_type": "code",
   "execution_count": null,
   "id": "a268b6d2",
   "metadata": {},
   "outputs": [],
   "source": [
    "tmx_mensual = \n",
    "tmx_diario ="
   ]
  },
  {
   "cell_type": "code",
   "execution_count": null,
   "id": "a34351ac",
   "metadata": {},
   "outputs": [],
   "source": [
    "tmx_mensual.to_csv(\"../../data/temixco_mensual.csv\")"
   ]
  }
 ],
 "metadata": {
  "language_info": {
   "name": "python"
  }
 },
 "nbformat": 4,
 "nbformat_minor": 5
}
