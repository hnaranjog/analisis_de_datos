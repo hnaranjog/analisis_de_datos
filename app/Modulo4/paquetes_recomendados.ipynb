{
 "cells": [
  {
   "cell_type": "markdown",
   "id": "359c2ddb",
   "metadata": {},
   "source": [
    "# Paquetes Recomendados\n",
    "1. Scipy\n",
    "2. Boken\n",
    "3. Scikit-learn\n",
    "4. TensorFlow\n",
    "5. PyTorch\n",
    "6. Nbdev\n",
    "7. Calplot\n",
    "8. WindRose\n",
    "9. Visual Studio Code\n",
    "10. JupyterLab\n",
    "11. Colab"
   ]
  }
 ],
 "metadata": {
  "language_info": {
   "name": "python"
  }
 },
 "nbformat": 4,
 "nbformat_minor": 5
}
