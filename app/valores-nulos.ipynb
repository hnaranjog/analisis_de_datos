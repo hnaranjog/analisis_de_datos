{
 "cells": [
  {
   "cell_type": "code",
   "execution_count": 1,
   "id": "92a98a5c",
   "metadata": {},
   "outputs": [],
   "source": [
    "import pandas as pd"
   ]
  },
  {
   "cell_type": "code",
   "execution_count": 2,
   "id": "95e23964",
   "metadata": {},
   "outputs": [
    {
     "name": "stdout",
     "output_type": "stream",
     "text": [
      "Requirement already satisfied: missingno in c:\\git\\python\\unad_projects\\analisis_de_datos\\venv\\lib\\site-packages (0.5.2)\n",
      "Requirement already satisfied: numpy in c:\\git\\python\\unad_projects\\analisis_de_datos\\venv\\lib\\site-packages (from missingno) (2.3.2)\n",
      "Requirement already satisfied: matplotlib in c:\\git\\python\\unad_projects\\analisis_de_datos\\venv\\lib\\site-packages (from missingno) (3.10.6)\n",
      "Requirement already satisfied: scipy in c:\\git\\python\\unad_projects\\analisis_de_datos\\venv\\lib\\site-packages (from missingno) (1.16.1)\n",
      "Requirement already satisfied: seaborn in c:\\git\\python\\unad_projects\\analisis_de_datos\\venv\\lib\\site-packages (from missingno) (0.13.2)\n",
      "Requirement already satisfied: contourpy>=1.0.1 in c:\\git\\python\\unad_projects\\analisis_de_datos\\venv\\lib\\site-packages (from matplotlib->missingno) (1.3.3)\n",
      "Requirement already satisfied: cycler>=0.10 in c:\\git\\python\\unad_projects\\analisis_de_datos\\venv\\lib\\site-packages (from matplotlib->missingno) (0.12.1)\n",
      "Requirement already satisfied: fonttools>=4.22.0 in c:\\git\\python\\unad_projects\\analisis_de_datos\\venv\\lib\\site-packages (from matplotlib->missingno) (4.59.2)\n",
      "Requirement already satisfied: kiwisolver>=1.3.1 in c:\\git\\python\\unad_projects\\analisis_de_datos\\venv\\lib\\site-packages (from matplotlib->missingno) (1.4.9)\n",
      "Requirement already satisfied: packaging>=20.0 in c:\\git\\python\\unad_projects\\analisis_de_datos\\venv\\lib\\site-packages (from matplotlib->missingno) (25.0)\n",
      "Requirement already satisfied: pillow>=8 in c:\\git\\python\\unad_projects\\analisis_de_datos\\venv\\lib\\site-packages (from matplotlib->missingno) (11.3.0)\n",
      "Requirement already satisfied: pyparsing>=2.3.1 in c:\\git\\python\\unad_projects\\analisis_de_datos\\venv\\lib\\site-packages (from matplotlib->missingno) (3.2.3)\n",
      "Requirement already satisfied: python-dateutil>=2.7 in c:\\git\\python\\unad_projects\\analisis_de_datos\\venv\\lib\\site-packages (from matplotlib->missingno) (2.9.0.post0)\n",
      "Requirement already satisfied: six>=1.5 in c:\\git\\python\\unad_projects\\analisis_de_datos\\venv\\lib\\site-packages (from python-dateutil>=2.7->matplotlib->missingno) (1.17.0)\n",
      "Requirement already satisfied: pandas>=1.2 in c:\\git\\python\\unad_projects\\analisis_de_datos\\venv\\lib\\site-packages (from seaborn->missingno) (2.3.2)\n",
      "Requirement already satisfied: pytz>=2020.1 in c:\\git\\python\\unad_projects\\analisis_de_datos\\venv\\lib\\site-packages (from pandas>=1.2->seaborn->missingno) (2025.2)\n",
      "Requirement already satisfied: tzdata>=2022.7 in c:\\git\\python\\unad_projects\\analisis_de_datos\\venv\\lib\\site-packages (from pandas>=1.2->seaborn->missingno) (2025.2)\n",
      "Note: you may need to restart the kernel to use updated packages.\n"
     ]
    }
   ],
   "source": [
    "%pip install missingno"
   ]
  },
  {
   "cell_type": "code",
   "execution_count": 3,
   "id": "1e11ae08",
   "metadata": {},
   "outputs": [],
   "source": [
    "import missingno as msno"
   ]
  },
  {
   "cell_type": "code",
   "execution_count": null,
   "id": "99d224a5",
   "metadata": {},
   "outputs": [],
   "source": []
  },
  {
   "cell_type": "code",
   "execution_count": 4,
   "id": "18d12358",
   "metadata": {},
   "outputs": [
    {
     "data": {
      "text/html": [
       "<div>\n",
       "<style scoped>\n",
       "    .dataframe tbody tr th:only-of-type {\n",
       "        vertical-align: middle;\n",
       "    }\n",
       "\n",
       "    .dataframe tbody tr th {\n",
       "        vertical-align: top;\n",
       "    }\n",
       "\n",
       "    .dataframe thead th {\n",
       "        text-align: right;\n",
       "    }\n",
       "</style>\n",
       "<table border=\"1\" class=\"dataframe\">\n",
       "  <thead>\n",
       "    <tr style=\"text-align: right;\">\n",
       "      <th></th>\n",
       "      <th>To</th>\n",
       "      <th>Ws</th>\n",
       "      <th>Wd</th>\n",
       "      <th>P</th>\n",
       "      <th>Ig</th>\n",
       "      <th>Ib</th>\n",
       "      <th>Id</th>\n",
       "      <th>observacion</th>\n",
       "    </tr>\n",
       "    <tr>\n",
       "      <th>tiempo</th>\n",
       "      <th></th>\n",
       "      <th></th>\n",
       "      <th></th>\n",
       "      <th></th>\n",
       "      <th></th>\n",
       "      <th></th>\n",
       "      <th></th>\n",
       "      <th></th>\n",
       "    </tr>\n",
       "  </thead>\n",
       "  <tbody>\n",
       "    <tr>\n",
       "      <th>2012-01-01 00:00:00</th>\n",
       "      <td>NaN</td>\n",
       "      <td>0.0</td>\n",
       "      <td>26</td>\n",
       "      <td>87415</td>\n",
       "      <td>0</td>\n",
       "      <td>0</td>\n",
       "      <td>0</td>\n",
       "      <td>Sí</td>\n",
       "    </tr>\n",
       "    <tr>\n",
       "      <th>2012-01-01 01:00:00</th>\n",
       "      <td>18.6</td>\n",
       "      <td>0.0</td>\n",
       "      <td>26</td>\n",
       "      <td>87602</td>\n",
       "      <td>0</td>\n",
       "      <td>0</td>\n",
       "      <td>0</td>\n",
       "      <td>No</td>\n",
       "    </tr>\n",
       "    <tr>\n",
       "      <th>2012-01-01 02:00:00</th>\n",
       "      <td>17.9</td>\n",
       "      <td>0.0</td>\n",
       "      <td>30</td>\n",
       "      <td>87788</td>\n",
       "      <td>0</td>\n",
       "      <td>0</td>\n",
       "      <td>0</td>\n",
       "      <td>No</td>\n",
       "    </tr>\n",
       "    <tr>\n",
       "      <th>2012-01-01 03:00:00</th>\n",
       "      <td>NaN</td>\n",
       "      <td>0.0</td>\n",
       "      <td>30</td>\n",
       "      <td>87554</td>\n",
       "      <td>0</td>\n",
       "      <td>0</td>\n",
       "      <td>0</td>\n",
       "      <td>No</td>\n",
       "    </tr>\n",
       "    <tr>\n",
       "      <th>2012-01-01 04:00:00</th>\n",
       "      <td>16.6</td>\n",
       "      <td>0.0</td>\n",
       "      <td>27</td>\n",
       "      <td>87321</td>\n",
       "      <td>0</td>\n",
       "      <td>0</td>\n",
       "      <td>0</td>\n",
       "      <td>No</td>\n",
       "    </tr>\n",
       "  </tbody>\n",
       "</table>\n",
       "</div>"
      ],
      "text/plain": [
       "                       To   Ws  Wd      P  Ig  Ib  Id observacion\n",
       "tiempo                                                           \n",
       "2012-01-01 00:00:00   NaN  0.0  26  87415   0   0   0          Sí\n",
       "2012-01-01 01:00:00  18.6  0.0  26  87602   0   0   0          No\n",
       "2012-01-01 02:00:00  17.9  0.0  30  87788   0   0   0          No\n",
       "2012-01-01 03:00:00   NaN  0.0  30  87554   0   0   0          No\n",
       "2012-01-01 04:00:00  16.6  0.0  27  87321   0   0   0          No"
      ]
     },
     "execution_count": 4,
     "metadata": {},
     "output_type": "execute_result"
    }
   ],
   "source": [
    "file_path_nans = \"../data/Cuernavaca_1dia_comas_Nans.csv\"\n",
    "df_nans = pd.read_csv(\n",
    "    file_path_nans,\n",
    "    index_col=0,\n",
    "    parse_dates=True\n",
    "    )\n",
    "\n",
    "df_nans.head()"
   ]
  },
  {
   "cell_type": "code",
   "execution_count": 5,
   "id": "0f06f979",
   "metadata": {},
   "outputs": [
    {
     "name": "stdout",
     "output_type": "stream",
     "text": [
      "<class 'pandas.core.frame.DataFrame'>\n",
      "DatetimeIndex: 24 entries, 2012-01-01 00:00:00 to 2012-01-01 23:00:00\n",
      "Data columns (total 8 columns):\n",
      " #   Column       Non-Null Count  Dtype  \n",
      "---  ------       --------------  -----  \n",
      " 0   To           13 non-null     float64\n",
      " 1   Ws           24 non-null     float64\n",
      " 2   Wd           24 non-null     int64  \n",
      " 3   P            24 non-null     int64  \n",
      " 4   Ig           24 non-null     int64  \n",
      " 5   Ib           24 non-null     int64  \n",
      " 6   Id           24 non-null     int64  \n",
      " 7   observacion  24 non-null     object \n",
      "dtypes: float64(2), int64(5), object(1)\n",
      "memory usage: 1.7+ KB\n"
     ]
    }
   ],
   "source": [
    "df_nans.info()"
   ]
  },
  {
   "cell_type": "code",
   "execution_count": 6,
   "id": "00b01019",
   "metadata": {},
   "outputs": [
    {
     "data": {
      "text/plain": [
       "np.float64(18.123076923076923)"
      ]
     },
     "execution_count": 6,
     "metadata": {},
     "output_type": "execute_result"
    }
   ],
   "source": [
    "df_nans.To.mean()"
   ]
  },
  {
   "cell_type": "code",
   "execution_count": 7,
   "id": "8a86d963",
   "metadata": {},
   "outputs": [
    {
     "data": {
      "text/plain": [
       "np.float64(22.0)"
      ]
     },
     "execution_count": 7,
     "metadata": {},
     "output_type": "execute_result"
    }
   ],
   "source": [
    "df_nans.To.max()"
   ]
  },
  {
   "cell_type": "code",
   "execution_count": 8,
   "id": "00b05ba1",
   "metadata": {},
   "outputs": [
    {
     "data": {
      "text/plain": [
       "np.float64(1.7441109703579862)"
      ]
     },
     "execution_count": 8,
     "metadata": {},
     "output_type": "execute_result"
    }
   ],
   "source": [
    "df_nans.To.std()"
   ]
  },
  {
   "cell_type": "code",
   "execution_count": 9,
   "id": "73375103",
   "metadata": {},
   "outputs": [
    {
     "data": {
      "text/html": [
       "<div>\n",
       "<style scoped>\n",
       "    .dataframe tbody tr th:only-of-type {\n",
       "        vertical-align: middle;\n",
       "    }\n",
       "\n",
       "    .dataframe tbody tr th {\n",
       "        vertical-align: top;\n",
       "    }\n",
       "\n",
       "    .dataframe thead th {\n",
       "        text-align: right;\n",
       "    }\n",
       "</style>\n",
       "<table border=\"1\" class=\"dataframe\">\n",
       "  <thead>\n",
       "    <tr style=\"text-align: right;\">\n",
       "      <th></th>\n",
       "      <th>To</th>\n",
       "      <th>Ws</th>\n",
       "      <th>Wd</th>\n",
       "      <th>P</th>\n",
       "      <th>Ig</th>\n",
       "      <th>Ib</th>\n",
       "      <th>Id</th>\n",
       "      <th>observacion</th>\n",
       "    </tr>\n",
       "    <tr>\n",
       "      <th>tiempo</th>\n",
       "      <th></th>\n",
       "      <th></th>\n",
       "      <th></th>\n",
       "      <th></th>\n",
       "      <th></th>\n",
       "      <th></th>\n",
       "      <th></th>\n",
       "      <th></th>\n",
       "    </tr>\n",
       "  </thead>\n",
       "  <tbody>\n",
       "    <tr>\n",
       "      <th>2012-01-01 00:00:00</th>\n",
       "      <td>NaN</td>\n",
       "      <td>0.0</td>\n",
       "      <td>26</td>\n",
       "      <td>87415</td>\n",
       "      <td>0</td>\n",
       "      <td>0</td>\n",
       "      <td>0</td>\n",
       "      <td>Sí</td>\n",
       "    </tr>\n",
       "    <tr>\n",
       "      <th>2012-01-01 01:00:00</th>\n",
       "      <td>18.6</td>\n",
       "      <td>0.0</td>\n",
       "      <td>26</td>\n",
       "      <td>87602</td>\n",
       "      <td>0</td>\n",
       "      <td>0</td>\n",
       "      <td>0</td>\n",
       "      <td>No</td>\n",
       "    </tr>\n",
       "    <tr>\n",
       "      <th>2012-01-01 02:00:00</th>\n",
       "      <td>17.9</td>\n",
       "      <td>0.0</td>\n",
       "      <td>30</td>\n",
       "      <td>87788</td>\n",
       "      <td>0</td>\n",
       "      <td>0</td>\n",
       "      <td>0</td>\n",
       "      <td>No</td>\n",
       "    </tr>\n",
       "    <tr>\n",
       "      <th>2012-01-01 03:00:00</th>\n",
       "      <td>NaN</td>\n",
       "      <td>0.0</td>\n",
       "      <td>30</td>\n",
       "      <td>87554</td>\n",
       "      <td>0</td>\n",
       "      <td>0</td>\n",
       "      <td>0</td>\n",
       "      <td>No</td>\n",
       "    </tr>\n",
       "    <tr>\n",
       "      <th>2012-01-01 04:00:00</th>\n",
       "      <td>16.6</td>\n",
       "      <td>0.0</td>\n",
       "      <td>27</td>\n",
       "      <td>87321</td>\n",
       "      <td>0</td>\n",
       "      <td>0</td>\n",
       "      <td>0</td>\n",
       "      <td>No</td>\n",
       "    </tr>\n",
       "  </tbody>\n",
       "</table>\n",
       "</div>"
      ],
      "text/plain": [
       "                       To   Ws  Wd      P  Ig  Ib  Id observacion\n",
       "tiempo                                                           \n",
       "2012-01-01 00:00:00   NaN  0.0  26  87415   0   0   0          Sí\n",
       "2012-01-01 01:00:00  18.6  0.0  26  87602   0   0   0          No\n",
       "2012-01-01 02:00:00  17.9  0.0  30  87788   0   0   0          No\n",
       "2012-01-01 03:00:00   NaN  0.0  30  87554   0   0   0          No\n",
       "2012-01-01 04:00:00  16.6  0.0  27  87321   0   0   0          No"
      ]
     },
     "execution_count": 9,
     "metadata": {},
     "output_type": "execute_result"
    }
   ],
   "source": [
    "file_path_nulos = \"../data/Cuernavaca_1dia_comas_NULOS.csv\"\n",
    "df_nulos = pd.read_csv(\n",
    "    file_path_nulos,\n",
    "    index_col=0,\n",
    "    parse_dates=True,\n",
    "    na_values=[\"Nulo\"]\n",
    ")\n",
    "\n",
    "df_nulos.head()"
   ]
  },
  {
   "cell_type": "code",
   "execution_count": 10,
   "id": "de002bf4",
   "metadata": {},
   "outputs": [
    {
     "name": "stdout",
     "output_type": "stream",
     "text": [
      "<class 'pandas.core.frame.DataFrame'>\n",
      "DatetimeIndex: 24 entries, 2012-01-01 00:00:00 to 2012-01-01 23:00:00\n",
      "Data columns (total 8 columns):\n",
      " #   Column       Non-Null Count  Dtype  \n",
      "---  ------       --------------  -----  \n",
      " 0   To           13 non-null     float64\n",
      " 1   Ws           24 non-null     float64\n",
      " 2   Wd           24 non-null     int64  \n",
      " 3   P            24 non-null     int64  \n",
      " 4   Ig           24 non-null     int64  \n",
      " 5   Ib           24 non-null     int64  \n",
      " 6   Id           24 non-null     int64  \n",
      " 7   observacion  24 non-null     object \n",
      "dtypes: float64(2), int64(5), object(1)\n",
      "memory usage: 1.7+ KB\n"
     ]
    }
   ],
   "source": [
    "df_nulos.info()"
   ]
  },
  {
   "cell_type": "code",
   "execution_count": 11,
   "id": "f6ad40f4",
   "metadata": {},
   "outputs": [
    {
     "data": {
      "text/plain": [
       "np.float64(18.123076923076923)"
      ]
     },
     "execution_count": 11,
     "metadata": {},
     "output_type": "execute_result"
    }
   ],
   "source": [
    "df_nulos.To.mean()"
   ]
  },
  {
   "cell_type": "code",
   "execution_count": 12,
   "id": "733c9d40",
   "metadata": {},
   "outputs": [
    {
     "data": {
      "text/plain": [
       "<Axes: >"
      ]
     },
     "execution_count": 12,
     "metadata": {},
     "output_type": "execute_result"
    },
    {
     "data": {
      "image/png": "[encoded data removed]",
      "text/plain": [
       "<Figure size 2500x1000 with 2 Axes>"
      ]
     },
     "metadata": {},
     "output_type": "display_data"
    }
   ],
   "source": [
    "msno.matrix(df_nulos)"
   ]
  },
  {
   "cell_type": "code",
   "execution_count": 13,
   "id": "482a5de1",
   "metadata": {},
   "outputs": [
    {
     "data": {
      "text/plain": [
       "<Axes: >"
      ]
     },
     "execution_count": 13,
     "metadata": {},
     "output_type": "execute_result"
    },
    {
     "data": {
      "image/png": "[encoded data removed]",
      "text/plain": [
       "<Figure size 2500x1000 with 3 Axes>"
      ]
     },
     "metadata": {},
     "output_type": "display_data"
    }
   ],
   "source": [
    "msno.bar(df_nulos, color=\"blue\")"
   ]
  }
 ],
 "metadata": {
  "kernelspec": {
   "display_name": "venv (3.12.0)",
   "language": "python",
   "name": "python3"
  },
  "language_info": {
   "codemirror_mode": {
    "name": "ipython",
    "version": 3
   },
   "file_extension": ".py",
   "mimetype": "text/x-python",
   "name": "python",
   "nbconvert_exporter": "python",
   "pygments_lexer": "ipython3",
   "version": "3.12.0"
  }
 },
 "nbformat": 4,
 "nbformat_minor": 5
}
